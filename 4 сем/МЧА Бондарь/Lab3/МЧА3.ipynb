{
 "cells": [
  {
   "cell_type": "markdown",
   "metadata": {
    "colab_type": "text",
    "id": "NIu3lYqEGop1"
   },
   "source": [
    "# Лабораторная работа №3\n",
    "\n",
    "Выполнил: Владимир Ульяницкий"
   ]
  },
  {
   "cell_type": "code",
   "execution_count": 1,
   "metadata": {
    "colab": {},
    "colab_type": "code",
    "id": "me5WyBTO6mNY"
   },
   "outputs": [],
   "source": [
    "#Для нецелочисленных диапазонов\n",
    "import numpy as np\n",
    "\n",
    "#Рассматриваемая функция\n",
    "from math import *\n",
    "def f(x):\n",
    "  return cos(log(x**6 + 2))\n",
    "\n",
    "def p(x):\n",
    "  return (1 - x**2)**2\n",
    "\n",
    "table = [[0 for x in range (2)] for y in range (4)]\n",
    "\n",
    "I = 0.8131143555077891 #Значение из lab3.nb"
   ]
  },
  {
   "cell_type": "markdown",
   "metadata": {
    "colab_type": "text",
    "id": "CZNYxmrlbnkq"
   },
   "source": [
    "### Пункт 1: Составная формула левых прямоугольников"
   ]
  },
  {
   "cell_type": "code",
   "execution_count": 2,
   "metadata": {
    "colab": {},
    "colab_type": "code",
    "id": "YssgU3j8RjWS"
   },
   "outputs": [],
   "source": [
    "def left(a, b, step, i): #метод левых прямоугольников\n",
    "  sum = 0\n",
    "  for x in np.arange(a, b - step / 2, step):\n",
    "    sum += f(x) * p(x) * step\n",
    "    table[i][1] += 1\n",
    "  return sum"
   ]
  },
  {
   "cell_type": "code",
   "execution_count": 3,
   "metadata": {
    "colab": {},
    "colab_type": "code",
    "id": "PkScJSwdgAta"
   },
   "outputs": [],
   "source": [
    "table[0][1] = 0\n",
    "prev = left(-1, 1, 2, 0)\n",
    "cur = left(-1, 1, 1, 0)\n",
    "step = 1\n",
    "runge_delta = abs(cur - prev) / 3\n",
    "while (runge_delta > 10**-4):\n",
    "  step = step / 2\n",
    "  prev = cur\n",
    "  cur = left(-1, 1, step, 0)\n",
    "  runge_delta = abs(cur - prev) / 3\n",
    "table[0][0] = abs(cur - I)\n",
    "\n",
    "table[1][1] = 0\n",
    "prev = left(-1, 1, 2, 1)\n",
    "cur = left(-1, 1, 1, 1)\n",
    "step = 1\n",
    "runge_delta = abs(cur - prev) / 3\n",
    "while (runge_delta > 10**-6):\n",
    "  step = step / 2\n",
    "  prev = cur\n",
    "  cur = left(-1, 1, step, 1)\n",
    "  runge_delta = abs(cur - prev) / 3\n",
    "table[1][0] = abs(cur - I)\n",
    "\n",
    "table[2][1] = 0\n",
    "prev = left(-1, 1, 2, 2)\n",
    "cur = left(-1, 1, 1, 2)\n",
    "step = 1\n",
    "runge_delta = abs(cur - prev) / 3\n",
    "while (runge_delta > 10**-8):\n",
    "  step = step / 2\n",
    "  prev = cur\n",
    "  cur = left(-1, 1, step, 2)\n",
    "  runge_delta = abs(cur - prev) / 3\n",
    "table[2][0] = abs(cur - I)"
   ]
  },
  {
   "cell_type": "markdown",
   "metadata": {
    "colab_type": "text",
    "id": "-6160T-XlGrx"
   },
   "source": [
    "### Пункт 2: НАСТ"
   ]
  },
  {
   "cell_type": "markdown",
   "metadata": {
    "colab_type": "text",
    "id": "-cI5i0QT1o1h"
   },
   "source": [
    "Найдём узлы формулы как корни многочлена Якоби.\n",
    "Затем решим систему нелинейных уравнений, чтобы найти весовые коэффициенты."
   ]
  },
  {
   "cell_type": "code",
   "execution_count": 4,
   "metadata": {
    "colab": {},
    "colab_type": "code",
    "id": "U558wrSPEyE6"
   },
   "outputs": [],
   "source": [
    "import collections\n",
    "A = [0.3302393550012598, 0.01637255815493829, \\\n",
    "     0.01637255815493829, 0.0003191642226115275, \\\n",
    "     0.0003191642226115275, 0.2501193913592858, \\\n",
    "    0.2501193913592858, 0.1014025420958679, \\\n",
    "    0.1014025420958679]\n",
    "xi = [0, -0.8360311073266358, 0.8360311073266358, \\\n",
    "     -0.9681602395076261, 0.9681602395076261, \\\n",
    "     -0.3242534234038089, 0.3242534234038089, \\\n",
    "     -0.6133714327005904, 0.6133714327005904]\n",
    "d = collections.OrderedDict(sorted(dict(zip(xi, A)).items()))\n",
    "xi, A = list(d.keys()), list(d.values())\n",
    "cur = 0\n",
    "table[3][1] = 0\n",
    "for i in range (0, 9, 1):\n",
    "  cur += f(xi[i])*A[i]\n",
    "  table[3][1] += 1\n",
    "table[3][0] = abs(cur - I)"
   ]
  },
  {
   "cell_type": "markdown",
   "metadata": {
    "colab_type": "text",
    "id": "oVIjUM845bO1"
   },
   "source": [
    "### Результаты"
   ]
  },
  {
   "cell_type": "code",
   "execution_count": 7,
   "metadata": {
    "colab": {
     "base_uri": "https://localhost:8080/",
     "height": 190
    },
    "colab_type": "code",
    "id": "kFx0Ed715noC",
    "outputId": "43a5b4e9-43b7-4dcd-f220-a758cb745bb7"
   },
   "outputs": [
    {
     "data": {
      "text/html": [
       "<div>\n",
       "<style scoped>\n",
       "    .dataframe tbody tr th:only-of-type {\n",
       "        vertical-align: middle;\n",
       "    }\n",
       "\n",
       "    .dataframe tbody tr th {\n",
       "        vertical-align: top;\n",
       "    }\n",
       "\n",
       "    .dataframe thead th {\n",
       "        text-align: right;\n",
       "    }\n",
       "</style>\n",
       "<table border=\"1\" class=\"dataframe\">\n",
       "  <thead>\n",
       "    <tr style=\"text-align: right;\">\n",
       "      <th></th>\n",
       "      <th>Тип кв. фл-ы</th>\n",
       "      <th>Треб. точность, исп. в правиле Рунге</th>\n",
       "      <th>Достигнутая точность</th>\n",
       "      <th>Кол-во вычислений подынтегральной функции</th>\n",
       "    </tr>\n",
       "  </thead>\n",
       "  <tbody>\n",
       "    <tr>\n",
       "      <th>0</th>\n",
       "      <td>Составная</td>\n",
       "      <td>1e-04</td>\n",
       "      <td>2e-05</td>\n",
       "      <td>3e+01</td>\n",
       "    </tr>\n",
       "    <tr>\n",
       "      <th>1</th>\n",
       "      <td>Составная</td>\n",
       "      <td>1e-06</td>\n",
       "      <td>8e-08</td>\n",
       "      <td>1e+02</td>\n",
       "    </tr>\n",
       "    <tr>\n",
       "      <th>2</th>\n",
       "      <td>Составная</td>\n",
       "      <td>1e-08</td>\n",
       "      <td>3e-10</td>\n",
       "      <td>5e+02</td>\n",
       "    </tr>\n",
       "    <tr>\n",
       "      <th>3</th>\n",
       "      <td>НАСТ</td>\n",
       "      <td>—</td>\n",
       "      <td>7e-07</td>\n",
       "      <td>9e+00</td>\n",
       "    </tr>\n",
       "  </tbody>\n",
       "</table>\n",
       "</div>"
      ],
      "text/plain": [
       "  Тип кв. фл-ы Треб. точность, исп. в правиле Рунге Достигнутая точность  \\\n",
       "0    Составная                                1e-04                2e-05   \n",
       "1    Составная                                1e-06                8e-08   \n",
       "2    Составная                                1e-08                3e-10   \n",
       "3         НАСТ                                    —                7e-07   \n",
       "\n",
       "  Кол-во вычислений подынтегральной функции  \n",
       "0                                     3e+01  \n",
       "1                                     1e+02  \n",
       "2                                     5e+02  \n",
       "3                                     9e+00  "
      ]
     },
     "execution_count": 7,
     "metadata": {},
     "output_type": "execute_result"
    }
   ],
   "source": [
    "import pandas as pd\n",
    "\n",
    "text = np.empty((4, 4), dtype=object)\n",
    "for i in range(0, 4, 1):\n",
    "  text[i][2] = \"{:.0e}\".format(table[i][0])\n",
    "  text[i][3] = \"{:.0e}\".format(table[i][1])\n",
    "text[0][1] = \"{:.0e}\".format(10**-4)\n",
    "text[1][1] = \"{:.0e}\".format(10**-6)\n",
    "text[2][1] = \"{:.0e}\".format(10**-8)\n",
    "text[3][1] = \"—\"\n",
    "text[0][0] = \"Составная\"\n",
    "text[1][0] = \"Составная\"\n",
    "text[2][0] = \"Составная\"\n",
    "text[3][0] = \"НАСТ\"\n",
    "collabel=(\"Тип кв. фл-ы\", \"Треб. точность, исп. в правиле Рунге\", \\\n",
    "  \"Достигнутая точность\", \"Кол-во вычислений подынтегральной функции\")\n",
    "pd.DataFrame(data=text, columns=collabel)"
   ]
  },
  {
   "cell_type": "code",
   "execution_count": null,
   "metadata": {},
   "outputs": [],
   "source": []
  },
  {
   "cell_type": "code",
   "execution_count": null,
   "metadata": {},
   "outputs": [],
   "source": []
  }
 ],
 "metadata": {
  "accelerator": "TPU",
  "colab": {
   "collapsed_sections": [],
   "name": "МЧА3.ipynb",
   "provenance": [],
   "toc_visible": true,
   "version": "0.3.2"
  },
  "kernelspec": {
   "display_name": "Python 3",
   "language": "python",
   "name": "python3"
  },
  "language_info": {
   "codemirror_mode": {
    "name": "ipython",
    "version": 3
   },
   "file_extension": ".py",
   "mimetype": "text/x-python",
   "name": "python",
   "nbconvert_exporter": "python",
   "pygments_lexer": "ipython3",
   "version": "3.7.0"
  }
 },
 "nbformat": 4,
 "nbformat_minor": 1
}
